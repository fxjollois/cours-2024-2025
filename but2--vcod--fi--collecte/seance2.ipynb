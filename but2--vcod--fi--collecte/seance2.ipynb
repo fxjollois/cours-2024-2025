{
 "cells": [
  {
   "cell_type": "markdown",
   "metadata": {},
   "source": [
    "# Séance 2 : compléments sur API\n",
    "\n",
    "**Open Data Soft** a développé un outil de gestion des données ouvertes, qui est de plus en plus utilisé, en particulier par la mairie de Paris. Vous pouvez trouver l'aide en ligne à cette adresse : \n",
    "\n",
    "<https://help.opendatasoft.com/apis/ods-explore-v2/explore_v2.1.html>\n",
    "\n",
    "L'intérêt d'interroger l'API directement est que les opérations sur la base seront faites par le serveur, et non pas sur votre machine. Ce qui est très intéressant, en particulier dans le cas de travail en temps réel (création d'une appli mobile sur la base d'une API par exemple ou d'un tableau de bord temps réel) ou de travail sur des données très importantes (plusieurs giga octets, voire plus).\n",
    "\n",
    "**ATTENTION** : Comme vous pourrez le voir, les requêtes sont envoyées sous la forme d'une chaîne de caractères. Il faut donc faire usage des `\"\"` pour la chaîne globale, et des `''` pour les chaînes passées en paramètre dans cette chaîne globale (ou l'inverse).\n",
    "\n",
    "## API Vélib\n",
    "\n",
    "Nous allons voir l'utilisation de cet outil en interrogeant l'API Velib, proposée par la mairie de Paris. Toutes les informations sont disponibles à cette adresse :\n",
    "\n",
    "<https://opendata.paris.fr/explore/dataset/velib-disponibilite-en-temps-reel/api/>\n",
    "\n",
    "Comme vous le verrez, on utilise les mêmes concepts qu'en SQL.\n",
    "\n",
    "### Premier essai\n",
    "\n",
    "L'interrogation se fait, sous Python, avec la fonction `get()` de la librairie `requests` (normalement déjà présente). Le résultat peut être transformé en `JSON` (puis en dictionnaire sous Python) grâce à la fonction `json()` sur celui-ci.\n",
    "\n",
    "On obtient un objet ayant deux composantes (si tout va bien) :\n",
    "\n",
    "- `total_counts` : le nombre d'éléments correspondant à la requête (ici, le nombre de stations) ;\n",
    "- `results` : un tableau contenant une partie des résultats.\n",
    "\n",
    "Par défaut, la limite est de 10 éléments."
   ]
  },
  {
   "cell_type": "code",
   "execution_count": 1,
   "metadata": {
    "scrolled": false
   },
   "outputs": [
    {
     "data": {
      "text/plain": [
       "{'total_count': 1486,\n",
       " 'results': [{'stationcode': '16107',\n",
       "   'name': 'Benjamin Godard - Victor Hugo',\n",
       "   'is_installed': 'OUI',\n",
       "   'capacity': 35,\n",
       "   'numdocksavailable': 28,\n",
       "   'numbikesavailable': 7,\n",
       "   'mechanical': 6,\n",
       "   'ebike': 1,\n",
       "   'is_renting': 'OUI',\n",
       "   'is_returning': 'OUI',\n",
       "   'duedate': '2024-12-12T10:27:18+00:00',\n",
       "   'coordonnees_geo': {'lon': 2.275725, 'lat': 48.865983},\n",
       "   'nom_arrondissement_communes': 'Paris',\n",
       "   'code_insee_commune': '75056'},\n",
       "  {'stationcode': '11104',\n",
       "   'name': 'Charonne - Robert et Sonia Delaunay',\n",
       "   'is_installed': 'OUI',\n",
       "   'capacity': 20,\n",
       "   'numdocksavailable': 20,\n",
       "   'numbikesavailable': 0,\n",
       "   'mechanical': 0,\n",
       "   'ebike': 0,\n",
       "   'is_renting': 'OUI',\n",
       "   'is_returning': 'OUI',\n",
       "   'duedate': '2024-12-12T10:23:20+00:00',\n",
       "   'coordonnees_geo': {'lon': 2.3925706744194, 'lat': 48.855907555969},\n",
       "   'nom_arrondissement_communes': 'Paris',\n",
       "   'code_insee_commune': '75056'},\n",
       "  {'stationcode': '7002',\n",
       "   'name': 'Vaneau - Sèvres',\n",
       "   'is_installed': 'OUI',\n",
       "   'capacity': 35,\n",
       "   'numdocksavailable': 3,\n",
       "   'numbikesavailable': 26,\n",
       "   'mechanical': 17,\n",
       "   'ebike': 9,\n",
       "   'is_renting': 'OUI',\n",
       "   'is_returning': 'OUI',\n",
       "   'duedate': '2024-12-12T10:28:01+00:00',\n",
       "   'coordonnees_geo': {'lon': 2.3204218259346, 'lat': 48.848563233059},\n",
       "   'nom_arrondissement_communes': 'Paris',\n",
       "   'code_insee_commune': '75056'},\n",
       "  {'stationcode': '5110',\n",
       "   'name': 'Lacépède - Monge',\n",
       "   'is_installed': 'OUI',\n",
       "   'capacity': 23,\n",
       "   'numdocksavailable': 20,\n",
       "   'numbikesavailable': 3,\n",
       "   'mechanical': 2,\n",
       "   'ebike': 1,\n",
       "   'is_renting': 'OUI',\n",
       "   'is_returning': 'OUI',\n",
       "   'duedate': '2024-12-12T10:26:08+00:00',\n",
       "   'coordonnees_geo': {'lon': 2.3519663885235786, 'lat': 48.84389286531899},\n",
       "   'nom_arrondissement_communes': 'Paris',\n",
       "   'code_insee_commune': '75056'},\n",
       "  {'stationcode': '6108',\n",
       "   'name': 'Saint-Romain - Cherche-Midi',\n",
       "   'is_installed': 'OUI',\n",
       "   'capacity': 17,\n",
       "   'numdocksavailable': 2,\n",
       "   'numbikesavailable': 14,\n",
       "   'mechanical': 12,\n",
       "   'ebike': 2,\n",
       "   'is_renting': 'OUI',\n",
       "   'is_returning': 'OUI',\n",
       "   'duedate': '2024-12-12T10:27:23+00:00',\n",
       "   'coordonnees_geo': {'lon': 2.321374788880348, 'lat': 48.84708159081946},\n",
       "   'nom_arrondissement_communes': 'Paris',\n",
       "   'code_insee_commune': '75056'},\n",
       "  {'stationcode': '33006',\n",
       "   'name': 'André Karman - République',\n",
       "   'is_installed': 'OUI',\n",
       "   'capacity': 31,\n",
       "   'numdocksavailable': 22,\n",
       "   'numbikesavailable': 6,\n",
       "   'mechanical': 3,\n",
       "   'ebike': 3,\n",
       "   'is_renting': 'OUI',\n",
       "   'is_returning': 'OUI',\n",
       "   'duedate': '2024-12-12T10:20:15+00:00',\n",
       "   'coordonnees_geo': {'lon': 2.3851355910301213, 'lat': 48.91039875761846},\n",
       "   'nom_arrondissement_communes': 'Aubervilliers',\n",
       "   'code_insee_commune': '93001'},\n",
       "  {'stationcode': '42016',\n",
       "   'name': 'Pierre et Marie Curie - Maurice Thorez',\n",
       "   'is_installed': 'OUI',\n",
       "   'capacity': 27,\n",
       "   'numdocksavailable': 25,\n",
       "   'numbikesavailable': 2,\n",
       "   'mechanical': 1,\n",
       "   'ebike': 1,\n",
       "   'is_renting': 'OUI',\n",
       "   'is_returning': 'OUI',\n",
       "   'duedate': '2024-12-12T10:23:32+00:00',\n",
       "   'coordonnees_geo': {'lon': 2.376804985105991, 'lat': 48.81580226360801},\n",
       "   'nom_arrondissement_communes': 'Ivry-sur-Seine',\n",
       "   'code_insee_commune': '94041'},\n",
       "  {'stationcode': '40011',\n",
       "   'name': 'Bas du Mont-Mesly',\n",
       "   'is_installed': 'NON',\n",
       "   'capacity': 1,\n",
       "   'numdocksavailable': 1,\n",
       "   'numbikesavailable': 0,\n",
       "   'mechanical': 0,\n",
       "   'ebike': 0,\n",
       "   'is_renting': 'NON',\n",
       "   'is_returning': 'NON',\n",
       "   'duedate': '2024-08-29T11:13:08+00:00',\n",
       "   'coordonnees_geo': {'lon': 2.4609763908985, 'lat': 48.779035118572},\n",
       "   'nom_arrondissement_communes': 'Créteil',\n",
       "   'code_insee_commune': '94028'},\n",
       "  {'stationcode': '21010',\n",
       "   'name': 'Silly - Galliéni',\n",
       "   'is_installed': 'OUI',\n",
       "   'capacity': 25,\n",
       "   'numdocksavailable': 15,\n",
       "   'numbikesavailable': 10,\n",
       "   'mechanical': 7,\n",
       "   'ebike': 3,\n",
       "   'is_renting': 'OUI',\n",
       "   'is_returning': 'OUI',\n",
       "   'duedate': '2024-12-12T10:24:30+00:00',\n",
       "   'coordonnees_geo': {'lon': 2.2325500845909, 'lat': 48.835583838706},\n",
       "   'nom_arrondissement_communes': 'Boulogne-Billancourt',\n",
       "   'code_insee_commune': '92012'},\n",
       "  {'stationcode': '17041',\n",
       "   'name': 'Guersant - Gouvion-Saint-Cyr',\n",
       "   'is_installed': 'OUI',\n",
       "   'capacity': 36,\n",
       "   'numdocksavailable': 30,\n",
       "   'numbikesavailable': 6,\n",
       "   'mechanical': 4,\n",
       "   'ebike': 2,\n",
       "   'is_renting': 'OUI',\n",
       "   'is_returning': 'OUI',\n",
       "   'duedate': '2024-12-12T10:27:24+00:00',\n",
       "   'coordonnees_geo': {'lon': 2.287667370814871, 'lat': 48.88287775178599},\n",
       "   'nom_arrondissement_communes': 'Paris',\n",
       "   'code_insee_commune': '75056'}]}"
      ]
     },
     "execution_count": 1,
     "metadata": {},
     "output_type": "execute_result"
    }
   ],
   "source": [
    "import requests\n",
    "\n",
    "url_base = \"https://opendata.paris.fr/api/explore/v2.1/catalog/datasets/velib-disponibilite-en-temps-reel/records\"\n",
    "resultat = requests.get(url_base).json()\n",
    "resultat"
   ]
  },
  {
   "cell_type": "markdown",
   "metadata": {},
   "source": [
    "#### Et si on essaie de tout récupérer\n",
    "\n",
    "La première idée est de mettre le paramètre `limit` au maximum de ce qu'on doit obtenir comme résultat, pour tout récupérer d'un coup.\n",
    "\n",
    "Comme vous pouvez le voir ci-dessous, il n'est pas possible de demander plus de 100 élèments en une fois (sauf certaines opérations que l'on verra plus loin)."
   ]
  },
  {
   "cell_type": "code",
   "execution_count": 2,
   "metadata": {},
   "outputs": [
    {
     "data": {
      "text/plain": [
       "{'error_code': 'InvalidRESTParameterError',\n",
       " 'message': 'Invalid value for limit API parameter: 1486 was found but -1 <= limit <= 100 is expected.'}"
      ]
     },
     "execution_count": 2,
     "metadata": {},
     "output_type": "execute_result"
    }
   ],
   "source": [
    "requests.get(url_base + \"?limit=\" + str(resultat[\"total_count\"])).json()"
   ]
  },
  {
   "cell_type": "markdown",
   "metadata": {},
   "source": [
    "#### Comment tout obtenir alors ?\n",
    "\n",
    "Pour récupérer tous les éléments dans un tel cas, il est nécessaire de faire une boucle et d'utiliser le paramètre `offset` qui permet de passer les premiers résultats.\n",
    "\n",
    "Le code ci-dessous permet donc de récupérer toutes les stations dans la liste `resultat_final`."
   ]
  },
  {
   "cell_type": "code",
   "execution_count": 3,
   "metadata": {},
   "outputs": [
    {
     "data": {
      "text/plain": [
       "1486"
      ]
     },
     "execution_count": 3,
     "metadata": {},
     "output_type": "execute_result"
    }
   ],
   "source": [
    "resultat_final = []\n",
    "for i in range(0, resultat[\"total_count\"], 100):\n",
    "    temp = requests.get(url_base + \"?limit=100&offset=\" + str(i)).json()\n",
    "    resultat_final += temp[\"results\"]\n",
    "\n",
    "# on trouve bien nos 1484 résultats\n",
    "len(resultat_final)"
   ]
  },
  {
   "cell_type": "markdown",
   "metadata": {},
   "source": [
    "#### Que faire des résultats ?\n",
    "\n",
    "Pour nos besoins ultérieurs (en analyse, calculs, graphiques...), il est intéressant de voir qu'on peut transformer ce résultat `JSON` en un dataframe `pandas` très facilement (cf ci-dessous)."
   ]
  },
  {
   "cell_type": "code",
   "execution_count": 4,
   "metadata": {},
   "outputs": [
    {
     "data": {
      "text/html": [
       "<div>\n",
       "<style scoped>\n",
       "    .dataframe tbody tr th:only-of-type {\n",
       "        vertical-align: middle;\n",
       "    }\n",
       "\n",
       "    .dataframe tbody tr th {\n",
       "        vertical-align: top;\n",
       "    }\n",
       "\n",
       "    .dataframe thead th {\n",
       "        text-align: right;\n",
       "    }\n",
       "</style>\n",
       "<table border=\"1\" class=\"dataframe\">\n",
       "  <thead>\n",
       "    <tr style=\"text-align: right;\">\n",
       "      <th></th>\n",
       "      <th>stationcode</th>\n",
       "      <th>name</th>\n",
       "      <th>is_installed</th>\n",
       "      <th>capacity</th>\n",
       "      <th>numdocksavailable</th>\n",
       "      <th>numbikesavailable</th>\n",
       "      <th>mechanical</th>\n",
       "      <th>ebike</th>\n",
       "      <th>is_renting</th>\n",
       "      <th>is_returning</th>\n",
       "      <th>duedate</th>\n",
       "      <th>coordonnees_geo</th>\n",
       "      <th>nom_arrondissement_communes</th>\n",
       "      <th>code_insee_commune</th>\n",
       "    </tr>\n",
       "  </thead>\n",
       "  <tbody>\n",
       "    <tr>\n",
       "      <th>0</th>\n",
       "      <td>16107</td>\n",
       "      <td>Benjamin Godard - Victor Hugo</td>\n",
       "      <td>OUI</td>\n",
       "      <td>35</td>\n",
       "      <td>28</td>\n",
       "      <td>7</td>\n",
       "      <td>6</td>\n",
       "      <td>1</td>\n",
       "      <td>OUI</td>\n",
       "      <td>OUI</td>\n",
       "      <td>2024-12-12T10:27:18+00:00</td>\n",
       "      <td>{'lon': 2.275725, 'lat': 48.865983}</td>\n",
       "      <td>Paris</td>\n",
       "      <td>75056</td>\n",
       "    </tr>\n",
       "    <tr>\n",
       "      <th>1</th>\n",
       "      <td>11104</td>\n",
       "      <td>Charonne - Robert et Sonia Delaunay</td>\n",
       "      <td>OUI</td>\n",
       "      <td>20</td>\n",
       "      <td>20</td>\n",
       "      <td>0</td>\n",
       "      <td>0</td>\n",
       "      <td>0</td>\n",
       "      <td>OUI</td>\n",
       "      <td>OUI</td>\n",
       "      <td>2024-12-12T10:23:20+00:00</td>\n",
       "      <td>{'lon': 2.3925706744194, 'lat': 48.855907555969}</td>\n",
       "      <td>Paris</td>\n",
       "      <td>75056</td>\n",
       "    </tr>\n",
       "    <tr>\n",
       "      <th>2</th>\n",
       "      <td>7002</td>\n",
       "      <td>Vaneau - Sèvres</td>\n",
       "      <td>OUI</td>\n",
       "      <td>35</td>\n",
       "      <td>3</td>\n",
       "      <td>26</td>\n",
       "      <td>17</td>\n",
       "      <td>9</td>\n",
       "      <td>OUI</td>\n",
       "      <td>OUI</td>\n",
       "      <td>2024-12-12T10:28:01+00:00</td>\n",
       "      <td>{'lon': 2.3204218259346, 'lat': 48.848563233059}</td>\n",
       "      <td>Paris</td>\n",
       "      <td>75056</td>\n",
       "    </tr>\n",
       "    <tr>\n",
       "      <th>3</th>\n",
       "      <td>5110</td>\n",
       "      <td>Lacépède - Monge</td>\n",
       "      <td>OUI</td>\n",
       "      <td>23</td>\n",
       "      <td>20</td>\n",
       "      <td>3</td>\n",
       "      <td>2</td>\n",
       "      <td>1</td>\n",
       "      <td>OUI</td>\n",
       "      <td>OUI</td>\n",
       "      <td>2024-12-12T10:26:08+00:00</td>\n",
       "      <td>{'lon': 2.3519663885235786, 'lat': 48.84389286...</td>\n",
       "      <td>Paris</td>\n",
       "      <td>75056</td>\n",
       "    </tr>\n",
       "    <tr>\n",
       "      <th>4</th>\n",
       "      <td>6108</td>\n",
       "      <td>Saint-Romain - Cherche-Midi</td>\n",
       "      <td>OUI</td>\n",
       "      <td>17</td>\n",
       "      <td>2</td>\n",
       "      <td>14</td>\n",
       "      <td>12</td>\n",
       "      <td>2</td>\n",
       "      <td>OUI</td>\n",
       "      <td>OUI</td>\n",
       "      <td>2024-12-12T10:27:23+00:00</td>\n",
       "      <td>{'lon': 2.321374788880348, 'lat': 48.847081590...</td>\n",
       "      <td>Paris</td>\n",
       "      <td>75056</td>\n",
       "    </tr>\n",
       "    <tr>\n",
       "      <th>...</th>\n",
       "      <td>...</td>\n",
       "      <td>...</td>\n",
       "      <td>...</td>\n",
       "      <td>...</td>\n",
       "      <td>...</td>\n",
       "      <td>...</td>\n",
       "      <td>...</td>\n",
       "      <td>...</td>\n",
       "      <td>...</td>\n",
       "      <td>...</td>\n",
       "      <td>...</td>\n",
       "      <td>...</td>\n",
       "      <td>...</td>\n",
       "      <td>...</td>\n",
       "    </tr>\n",
       "    <tr>\n",
       "      <th>1481</th>\n",
       "      <td>40002</td>\n",
       "      <td>Bleuets - Bordières</td>\n",
       "      <td>NON</td>\n",
       "      <td>1</td>\n",
       "      <td>1</td>\n",
       "      <td>0</td>\n",
       "      <td>0</td>\n",
       "      <td>0</td>\n",
       "      <td>NON</td>\n",
       "      <td>NON</td>\n",
       "      <td>2024-12-12T10:26:30+00:00</td>\n",
       "      <td>{'lon': 2.4543687905029, 'lat': 48.802117531472}</td>\n",
       "      <td>Créteil</td>\n",
       "      <td>94028</td>\n",
       "    </tr>\n",
       "    <tr>\n",
       "      <th>1482</th>\n",
       "      <td>21302</td>\n",
       "      <td>Aristide Briand - Place de la Résistance</td>\n",
       "      <td>OUI</td>\n",
       "      <td>25</td>\n",
       "      <td>9</td>\n",
       "      <td>18</td>\n",
       "      <td>16</td>\n",
       "      <td>2</td>\n",
       "      <td>OUI</td>\n",
       "      <td>OUI</td>\n",
       "      <td>2024-12-12T10:28:45+00:00</td>\n",
       "      <td>{'lon': 2.2511002421379094, 'lat': 48.82124248...</td>\n",
       "      <td>Issy-les-Moulineaux</td>\n",
       "      <td>92040</td>\n",
       "    </tr>\n",
       "    <tr>\n",
       "      <th>1483</th>\n",
       "      <td>8002</td>\n",
       "      <td>Gare Saint-Lazare - Cour du Havre</td>\n",
       "      <td>OUI</td>\n",
       "      <td>45</td>\n",
       "      <td>13</td>\n",
       "      <td>29</td>\n",
       "      <td>23</td>\n",
       "      <td>6</td>\n",
       "      <td>OUI</td>\n",
       "      <td>OUI</td>\n",
       "      <td>2024-12-12T10:28:34+00:00</td>\n",
       "      <td>{'lon': 2.3265598341823, 'lat': 48.875674400851}</td>\n",
       "      <td>Paris</td>\n",
       "      <td>75056</td>\n",
       "    </tr>\n",
       "    <tr>\n",
       "      <th>1484</th>\n",
       "      <td>12127</td>\n",
       "      <td>Tremblay - Lac des Minimes</td>\n",
       "      <td>OUI</td>\n",
       "      <td>48</td>\n",
       "      <td>1</td>\n",
       "      <td>68</td>\n",
       "      <td>31</td>\n",
       "      <td>37</td>\n",
       "      <td>OUI</td>\n",
       "      <td>OUI</td>\n",
       "      <td>2024-12-12T10:28:18+00:00</td>\n",
       "      <td>{'lon': 2.4547516554594, 'lat': 48.834131261494}</td>\n",
       "      <td>Paris</td>\n",
       "      <td>75056</td>\n",
       "    </tr>\n",
       "    <tr>\n",
       "      <th>1485</th>\n",
       "      <td>4005</td>\n",
       "      <td>Quai des Célestins - Henri IV</td>\n",
       "      <td>OUI</td>\n",
       "      <td>14</td>\n",
       "      <td>1</td>\n",
       "      <td>11</td>\n",
       "      <td>7</td>\n",
       "      <td>4</td>\n",
       "      <td>OUI</td>\n",
       "      <td>OUI</td>\n",
       "      <td>2024-12-12T10:27:16+00:00</td>\n",
       "      <td>{'lon': 2.3624535, 'lat': 48.8512971}</td>\n",
       "      <td>Paris</td>\n",
       "      <td>75056</td>\n",
       "    </tr>\n",
       "  </tbody>\n",
       "</table>\n",
       "<p>1486 rows × 14 columns</p>\n",
       "</div>"
      ],
      "text/plain": [
       "     stationcode                                      name is_installed  \\\n",
       "0          16107             Benjamin Godard - Victor Hugo          OUI   \n",
       "1          11104       Charonne - Robert et Sonia Delaunay          OUI   \n",
       "2           7002                           Vaneau - Sèvres          OUI   \n",
       "3           5110                          Lacépède - Monge          OUI   \n",
       "4           6108               Saint-Romain - Cherche-Midi          OUI   \n",
       "...          ...                                       ...          ...   \n",
       "1481       40002                       Bleuets - Bordières          NON   \n",
       "1482       21302  Aristide Briand - Place de la Résistance          OUI   \n",
       "1483        8002         Gare Saint-Lazare - Cour du Havre          OUI   \n",
       "1484       12127                Tremblay - Lac des Minimes          OUI   \n",
       "1485        4005             Quai des Célestins - Henri IV          OUI   \n",
       "\n",
       "      capacity  numdocksavailable  numbikesavailable  mechanical  ebike  \\\n",
       "0           35                 28                  7           6      1   \n",
       "1           20                 20                  0           0      0   \n",
       "2           35                  3                 26          17      9   \n",
       "3           23                 20                  3           2      1   \n",
       "4           17                  2                 14          12      2   \n",
       "...        ...                ...                ...         ...    ...   \n",
       "1481         1                  1                  0           0      0   \n",
       "1482        25                  9                 18          16      2   \n",
       "1483        45                 13                 29          23      6   \n",
       "1484        48                  1                 68          31     37   \n",
       "1485        14                  1                 11           7      4   \n",
       "\n",
       "     is_renting is_returning                    duedate  \\\n",
       "0           OUI          OUI  2024-12-12T10:27:18+00:00   \n",
       "1           OUI          OUI  2024-12-12T10:23:20+00:00   \n",
       "2           OUI          OUI  2024-12-12T10:28:01+00:00   \n",
       "3           OUI          OUI  2024-12-12T10:26:08+00:00   \n",
       "4           OUI          OUI  2024-12-12T10:27:23+00:00   \n",
       "...         ...          ...                        ...   \n",
       "1481        NON          NON  2024-12-12T10:26:30+00:00   \n",
       "1482        OUI          OUI  2024-12-12T10:28:45+00:00   \n",
       "1483        OUI          OUI  2024-12-12T10:28:34+00:00   \n",
       "1484        OUI          OUI  2024-12-12T10:28:18+00:00   \n",
       "1485        OUI          OUI  2024-12-12T10:27:16+00:00   \n",
       "\n",
       "                                        coordonnees_geo  \\\n",
       "0                   {'lon': 2.275725, 'lat': 48.865983}   \n",
       "1      {'lon': 2.3925706744194, 'lat': 48.855907555969}   \n",
       "2      {'lon': 2.3204218259346, 'lat': 48.848563233059}   \n",
       "3     {'lon': 2.3519663885235786, 'lat': 48.84389286...   \n",
       "4     {'lon': 2.321374788880348, 'lat': 48.847081590...   \n",
       "...                                                 ...   \n",
       "1481   {'lon': 2.4543687905029, 'lat': 48.802117531472}   \n",
       "1482  {'lon': 2.2511002421379094, 'lat': 48.82124248...   \n",
       "1483   {'lon': 2.3265598341823, 'lat': 48.875674400851}   \n",
       "1484   {'lon': 2.4547516554594, 'lat': 48.834131261494}   \n",
       "1485              {'lon': 2.3624535, 'lat': 48.8512971}   \n",
       "\n",
       "     nom_arrondissement_communes code_insee_commune  \n",
       "0                          Paris              75056  \n",
       "1                          Paris              75056  \n",
       "2                          Paris              75056  \n",
       "3                          Paris              75056  \n",
       "4                          Paris              75056  \n",
       "...                          ...                ...  \n",
       "1481                     Créteil              94028  \n",
       "1482         Issy-les-Moulineaux              92040  \n",
       "1483                       Paris              75056  \n",
       "1484                       Paris              75056  \n",
       "1485                       Paris              75056  \n",
       "\n",
       "[1486 rows x 14 columns]"
      ]
     },
     "execution_count": 4,
     "metadata": {},
     "output_type": "execute_result"
    }
   ],
   "source": [
    "import pandas\n",
    "\n",
    "data = pandas.DataFrame(resultat_final)\n",
    "data"
   ]
  },
  {
   "cell_type": "markdown",
   "metadata": {},
   "source": [
    "En analysant ce résultat, on peut déjà voir qu'on a des stations en double, voire en triple."
   ]
  },
  {
   "cell_type": "code",
   "execution_count": 5,
   "metadata": {},
   "outputs": [
    {
     "data": {
      "text/plain": [
       "stationcode\n",
       "10001    1\n",
       "30005    1\n",
       "3008     1\n",
       "3007     1\n",
       "3006     1\n",
       "        ..\n",
       "17017    1\n",
       "17016    1\n",
       "17015    1\n",
       "17013    1\n",
       "92008    1\n",
       "Length: 1486, dtype: int64"
      ]
     },
     "execution_count": 5,
     "metadata": {},
     "output_type": "execute_result"
    }
   ],
   "source": [
    "data.groupby(\"stationcode\").size().sort_values(ascending=False)"
   ]
  },
  {
   "cell_type": "markdown",
   "metadata": {},
   "source": [
    "Voici les différentes variables récupérées pour chaque station."
   ]
  },
  {
   "cell_type": "code",
   "execution_count": 6,
   "metadata": {},
   "outputs": [
    {
     "data": {
      "text/plain": [
       "Index(['stationcode', 'name', 'is_installed', 'capacity', 'numdocksavailable',\n",
       "       'numbikesavailable', 'mechanical', 'ebike', 'is_renting',\n",
       "       'is_returning', 'duedate', 'coordonnees_geo',\n",
       "       'nom_arrondissement_communes', 'code_insee_commune'],\n",
       "      dtype='object')"
      ]
     },
     "execution_count": 6,
     "metadata": {},
     "output_type": "execute_result"
    }
   ],
   "source": [
    "data.columns"
   ]
  },
  {
   "cell_type": "markdown",
   "metadata": {},
   "source": [
    "### Restriction et projection\n",
    "\n",
    "Premières étapes classiques de l'interrogation d'une base de données, quelque soit son format (relationnel, NoSQL, autre), la *restriction* (sélection d'élèments sur la base d'une condition) et la *projection* (sélection de certaines variables) sont bien évidemment possibles avec cet outil.\n",
    "\n",
    "\n",
    "#### Projection \n",
    "Ici, on ne sélectionne que les codes des stations (`stationcode`) et le nom de celles-ci (`name`)."
   ]
  },
  {
   "cell_type": "code",
   "execution_count": 7,
   "metadata": {},
   "outputs": [
    {
     "data": {
      "text/plain": [
       "{'total_count': 1486,\n",
       " 'results': [{'stationcode': '16107', 'name': 'Benjamin Godard - Victor Hugo'},\n",
       "  {'stationcode': '11104', 'name': 'Charonne - Robert et Sonia Delaunay'},\n",
       "  {'stationcode': '7002', 'name': 'Vaneau - Sèvres'},\n",
       "  {'stationcode': '5110', 'name': 'Lacépède - Monge'},\n",
       "  {'stationcode': '6108', 'name': 'Saint-Romain - Cherche-Midi'},\n",
       "  {'stationcode': '33006', 'name': 'André Karman - République'},\n",
       "  {'stationcode': '42016', 'name': 'Pierre et Marie Curie - Maurice Thorez'},\n",
       "  {'stationcode': '40011', 'name': 'Bas du Mont-Mesly'},\n",
       "  {'stationcode': '21010', 'name': 'Silly - Galliéni'},\n",
       "  {'stationcode': '17041', 'name': 'Guersant - Gouvion-Saint-Cyr'}]}"
      ]
     },
     "execution_count": 7,
     "metadata": {},
     "output_type": "execute_result"
    }
   ],
   "source": [
    "requests.get(url_base + \"?select=stationcode,name\").json()"
   ]
  },
  {
   "cell_type": "markdown",
   "metadata": {},
   "source": [
    "#### Restriction\n",
    "\n",
    "On peut donc aussi faire une restriction avec la clause `where` (on voit qu'on est très proche du langage SQL).\n",
    "\n",
    "On cherche ici les stations avec une capacité d'accueil supérieure à 30."
   ]
  },
  {
   "cell_type": "code",
   "execution_count": 8,
   "metadata": {},
   "outputs": [
    {
     "data": {
      "text/plain": [
       "{'total_count': 633,\n",
       " 'results': [{'stationcode': '16107', 'capacity': 35},\n",
       "  {'stationcode': '7002', 'capacity': 35},\n",
       "  {'stationcode': '33006', 'capacity': 31},\n",
       "  {'stationcode': '17041', 'capacity': 36},\n",
       "  {'stationcode': '17026', 'capacity': 40},\n",
       "  {'stationcode': '13101', 'capacity': 34},\n",
       "  {'stationcode': '31024', 'capacity': 38},\n",
       "  {'stationcode': '20143', 'capacity': 44},\n",
       "  {'stationcode': '17040', 'capacity': 48},\n",
       "  {'stationcode': '9022', 'capacity': 33}]}"
      ]
     },
     "execution_count": 8,
     "metadata": {},
     "output_type": "execute_result"
    }
   ],
   "source": [
    "requests.get(url_base + \"?select=stationcode,capacity&where=capacity>30\").json()"
   ]
  },
  {
   "cell_type": "markdown",
   "metadata": {},
   "source": [
    "#### Avec tri du résultat\n",
    "\n",
    "Toujours dans la même idée de faire les mêmes opérations qu'en SQL, on peut trier le résultat avec la clause `order_by`.\n",
    "\n",
    "Même résultat que précédemment, mais trié par ordre croissant de la capacité."
   ]
  },
  {
   "cell_type": "code",
   "execution_count": 9,
   "metadata": {},
   "outputs": [
    {
     "data": {
      "text/plain": [
       "{'total_count': 633,\n",
       " 'results': [{'stationcode': '33006', 'capacity': 31},\n",
       "  {'stationcode': '5123', 'capacity': 31},\n",
       "  {'stationcode': '8055', 'capacity': 31},\n",
       "  {'stationcode': '42503', 'capacity': 31},\n",
       "  {'stationcode': '22101', 'capacity': 31},\n",
       "  {'stationcode': '8105', 'capacity': 31},\n",
       "  {'stationcode': '20117', 'capacity': 31},\n",
       "  {'stationcode': '19124', 'capacity': 31},\n",
       "  {'stationcode': '22013', 'capacity': 31},\n",
       "  {'stationcode': '10110', 'capacity': 31}]}"
      ]
     },
     "execution_count": 9,
     "metadata": {},
     "output_type": "execute_result"
    }
   ],
   "source": [
    "requests.get(url_base + \"?select=stationcode,capacity&where=capacity>30&order_by=capacity\").json()"
   ]
  },
  {
   "cell_type": "markdown",
   "metadata": {},
   "source": [
    "Et ce tri peut bien évidemment être décroissant en ajoutant `DESC` après le critère de tri.\n",
    "\n",
    "Toujours même résultat, mais trié par ordre décroissant de la capacité."
   ]
  },
  {
   "cell_type": "code",
   "execution_count": 10,
   "metadata": {},
   "outputs": [
    {
     "data": {
      "text/plain": [
       "{'total_count': 633,\n",
       " 'results': [{'stationcode': '7009', 'capacity': 76},\n",
       "  {'stationcode': '15030', 'capacity': 74},\n",
       "  {'stationcode': '15028', 'capacity': 71},\n",
       "  {'stationcode': '5034', 'capacity': 69},\n",
       "  {'stationcode': '16025', 'capacity': 68},\n",
       "  {'stationcode': '12106', 'capacity': 68},\n",
       "  {'stationcode': '12157', 'capacity': 68},\n",
       "  {'stationcode': '32012', 'capacity': 68},\n",
       "  {'stationcode': '8004', 'capacity': 67},\n",
       "  {'stationcode': '1013', 'capacity': 67}]}"
      ]
     },
     "execution_count": 10,
     "metadata": {},
     "output_type": "execute_result"
    }
   ],
   "source": [
    "requests.get(url_base + \"?select=stationcode,capacity&where=capacity>30&order_by=capacity DESC\").json()"
   ]
  },
  {
   "cell_type": "markdown",
   "metadata": {},
   "source": [
    "#### Combinaisons de conditions\n",
    "\n",
    "On peut bien évidemment combiner plusieurs conditions avec les différents opérateurs logiques : `AND`, `OR` et `NOT`.\n",
    "\n",
    "Nous avons ici les stations avec une capacité supérieure à 20, qui ne sont pas en état de laisser la possibilité de louer les vélos."
   ]
  },
  {
   "cell_type": "code",
   "execution_count": 11,
   "metadata": {},
   "outputs": [
    {
     "data": {
      "text/plain": [
       "{'total_count': 18,\n",
       " 'results': [{'stationcode': '18027', 'capacity': 30, 'is_renting': 'NON'},\n",
       "  {'stationcode': '3005', 'capacity': 33, 'is_renting': 'NON'},\n",
       "  {'stationcode': '18010', 'capacity': 26, 'is_renting': 'NON'},\n",
       "  {'stationcode': '10038', 'capacity': 27, 'is_renting': 'NON'},\n",
       "  {'stationcode': '40014', 'capacity': 28, 'is_renting': 'NON'},\n",
       "  {'stationcode': '40015', 'capacity': 24, 'is_renting': 'NON'},\n",
       "  {'stationcode': '40004', 'capacity': 25, 'is_renting': 'NON'},\n",
       "  {'stationcode': '34014', 'capacity': 32, 'is_renting': 'NON'},\n",
       "  {'stationcode': '40001', 'capacity': 28, 'is_renting': 'NON'},\n",
       "  {'stationcode': '18203', 'capacity': 40, 'is_renting': 'NON'},\n",
       "  {'stationcode': '44010', 'capacity': 30, 'is_renting': 'NON'},\n",
       "  {'stationcode': '43003', 'capacity': 26, 'is_renting': 'NON'},\n",
       "  {'stationcode': '42207', 'capacity': 37, 'is_renting': 'NON'},\n",
       "  {'stationcode': '15063', 'capacity': 23, 'is_renting': 'NON'},\n",
       "  {'stationcode': '13048', 'capacity': 28, 'is_renting': 'NON'},\n",
       "  {'stationcode': '40009', 'capacity': 30, 'is_renting': 'NON'},\n",
       "  {'stationcode': '8116', 'capacity': 25, 'is_renting': 'NON'},\n",
       "  {'stationcode': '40008', 'capacity': 44, 'is_renting': 'NON'}]}"
      ]
     },
     "execution_count": 11,
     "metadata": {},
     "output_type": "execute_result"
    }
   ],
   "source": [
    "requests.get(url_base + \"?select=stationcode,capacity,is_renting&where=capacity>20 AND is_renting='NON'&limit=100\").json()"
   ]
  },
  {
   "cell_type": "markdown",
   "metadata": {},
   "source": [
    "#### Recherche dans une chaîne de caractères\n",
    "\n",
    "On a trois fonctions qui permettent de chercher un chaîne (ou sous-chaîne) de caractères dans une variable (ou même globalement en indiquant `*`), ces premières étant sensibles à la casse :\n",
    "\n",
    "- `startswidth(champs, 'chaîne')` : cherche les éléments pour lesquels le champs cité débute par la chaîne\n",
    "- `suggest(champs, 'chaîne')`: cherche les éléments pour lesquels le champs cité contient la chaîne\n",
    "- `search(champs, 'chaîne')` : cherche les éléments pour lesquels le champs cité est exactement égal à la chaîne\n",
    "\n",
    "On veut toutes les stations dont le nom commence par \"Exelmans\"."
   ]
  },
  {
   "cell_type": "code",
   "execution_count": 12,
   "metadata": {},
   "outputs": [
    {
     "data": {
      "text/plain": [
       "{'total_count': 2,\n",
       " 'results': [{'stationcode': '16039', 'name': 'Exelmans - Versailles'},\n",
       "  {'stationcode': '16040', 'name': 'Exelmans - Michel-Ange'}]}"
      ]
     },
     "execution_count": 12,
     "metadata": {},
     "output_type": "execute_result"
    }
   ],
   "source": [
    "requests.get(url_base + \"?select=stationcode,name&where=startswith(name,'Exelmans')\").json()"
   ]
  },
  {
   "cell_type": "markdown",
   "metadata": {},
   "source": [
    "On veut toutes les stations dont le nom contient \"Versailles\"."
   ]
  },
  {
   "cell_type": "code",
   "execution_count": 13,
   "metadata": {},
   "outputs": [
    {
     "data": {
      "text/plain": [
       "{'total_count': 3,\n",
       " 'results': [{'stationcode': '16039', 'name': 'Exelmans - Versailles'},\n",
       "  {'stationcode': '15203', 'name': 'Porte de Versailles'},\n",
       "  {'stationcode': '16041', 'name': 'Versailles - Claude Terrasse'}]}"
      ]
     },
     "execution_count": 13,
     "metadata": {},
     "output_type": "execute_result"
    }
   ],
   "source": [
    "requests.get(url_base + \"?select=stationcode,name&where=suggest(name,'Versailles')\").json()"
   ]
  },
  {
   "cell_type": "markdown",
   "metadata": {},
   "source": [
    "On cherche précisément la station \"Exelmans - Versailles\"."
   ]
  },
  {
   "cell_type": "code",
   "execution_count": 14,
   "metadata": {},
   "outputs": [
    {
     "data": {
      "text/plain": [
       "{'total_count': 1,\n",
       " 'results': [{'stationcode': '16039', 'name': 'Exelmans - Versailles'}]}"
      ]
     },
     "execution_count": 14,
     "metadata": {},
     "output_type": "execute_result"
    }
   ],
   "source": [
    "requests.get(url_base + \"?select=stationcode,name&where=search(name,'Exelmans - Versailles')\").json()"
   ]
  },
  {
   "cell_type": "markdown",
   "metadata": {},
   "source": [
    "#### Recherche dans une liste\n",
    "\n",
    "On dispose de l'opérateur `IN (val1, val2, ...)` permettant de tester si un champs a une valeur comprise dans la liste passée à la suite.\n",
    "\n",
    "On souhaite obtenir les stations dans les villes de Clichy et Colombes."
   ]
  },
  {
   "cell_type": "code",
   "execution_count": 15,
   "metadata": {},
   "outputs": [
    {
     "data": {
      "text/plain": [
       "{'total_count': 18,\n",
       " 'results': [{'stationcode': '27005',\n",
       "   'nom_arrondissement_communes': 'Colombes'},\n",
       "  {'stationcode': '27001', 'nom_arrondissement_communes': 'Colombes'},\n",
       "  {'stationcode': '27002', 'nom_arrondissement_communes': 'Colombes'},\n",
       "  {'stationcode': '27006', 'nom_arrondissement_communes': 'Colombes'},\n",
       "  {'stationcode': '27004', 'nom_arrondissement_communes': 'Colombes'},\n",
       "  {'stationcode': '21114', 'nom_arrondissement_communes': 'Clichy'},\n",
       "  {'stationcode': '21120', 'nom_arrondissement_communes': 'Clichy'},\n",
       "  {'stationcode': '21107', 'nom_arrondissement_communes': 'Clichy'},\n",
       "  {'stationcode': '21104', 'nom_arrondissement_communes': 'Clichy'},\n",
       "  {'stationcode': '21109', 'nom_arrondissement_communes': 'Clichy'}]}"
      ]
     },
     "execution_count": 15,
     "metadata": {},
     "output_type": "execute_result"
    }
   ],
   "source": [
    "# clause IN\n",
    "requests.get(url_base + \"?select=stationcode,nom_arrondissement_communes&where=nom_arrondissement_communes IN ('Clichy','Colombes')\").json()"
   ]
  },
  {
   "cell_type": "markdown",
   "metadata": {},
   "source": [
    "#### Distance à un objet géométrique\n",
    "\n",
    "Un des points cruciaux actuellement est la géo-localisation, en particulier dans le cadre d'une appli mobile. On peut ainsi requêter la base de données en cherchant, dans ce premier exemple, les éléments pour lesquels la distance entre un point géographique (stocké dans un champs) et un objet géométrique est inférieure à une certaine distance passée en paramètre.\n",
    "\n",
    "Ici, nous cherchons les stations à moins de 800m de l'IUT Paris-Rives de Seine. Il faut noter que l'ordre des coordonnées (ici longitude et latitude) dépend de la façon dont elles sont stockées dans le champs. "
   ]
  },
  {
   "cell_type": "code",
   "execution_count": 16,
   "metadata": {},
   "outputs": [
    {
     "data": {
      "text/plain": [
       "{'total_count': 15,\n",
       " 'results': [{'stationcode': '15068',\n",
       "   'name': 'Général Martial Valin - Pont du Garigliano'},\n",
       "  {'stationcode': '16032', 'name': \"Eglise d'Auteuil\"},\n",
       "  {'stationcode': '15059', 'name': 'Parc André Citroën'},\n",
       "  {'stationcode': '15057',\n",
       "   'name': 'Lucien Bossoutrot - Général Martial Vallin'},\n",
       "  {'stationcode': '16037', 'name': 'Molitor - Michel-Ange'},\n",
       "  {'stationcode': '16033', 'name': \"Marché d'Auteuil\"},\n",
       "  {'stationcode': '16118', 'name': 'Michel-Ange - Parent de Rosan'},\n",
       "  {'stationcode': '16039', 'name': 'Exelmans - Versailles'},\n",
       "  {'stationcode': '15104', 'name': 'Hôpital Européen Georges Pompidou'},\n",
       "  {'stationcode': '16038', 'name': 'Molitor - Chardon-Lagache'}]}"
      ]
     },
     "execution_count": 16,
     "metadata": {},
     "output_type": "execute_result"
    }
   ],
   "source": [
    "requests.get(url_base + \"?select=stationcode,name&where=within_distance(coordonnees_geo, geom'POINT(2.267888940737877 48.84197963193564)', 800m)\").json()"
   ]
  },
  {
   "cell_type": "markdown",
   "metadata": {},
   "source": [
    "En complément, on peut en plus récupérer la distance calculée entre ces coordonnées et un objet géométrique."
   ]
  },
  {
   "cell_type": "code",
   "execution_count": 17,
   "metadata": {},
   "outputs": [
    {
     "data": {
      "text/plain": [
       "{'total_count': 15,\n",
       " 'results': [{'stationcode': '15068',\n",
       "   'name': 'Général Martial Valin - Pont du Garigliano',\n",
       "   'distance': 458.73543527109746},\n",
       "  {'stationcode': '16032',\n",
       "   'name': \"Eglise d'Auteuil\",\n",
       "   'distance': 615.2029327979726},\n",
       "  {'stationcode': '15059',\n",
       "   'name': 'Parc André Citroën',\n",
       "   'distance': 759.235801861452},\n",
       "  {'stationcode': '15057',\n",
       "   'name': 'Lucien Bossoutrot - Général Martial Vallin',\n",
       "   'distance': 720.5126894948061},\n",
       "  {'stationcode': '16037',\n",
       "   'name': 'Molitor - Michel-Ange',\n",
       "   'distance': 552.7017995780018},\n",
       "  {'stationcode': '16033',\n",
       "   'name': \"Marché d'Auteuil\",\n",
       "   'distance': 742.4598347058223},\n",
       "  {'stationcode': '16118',\n",
       "   'name': 'Michel-Ange - Parent de Rosan',\n",
       "   'distance': 710.8022353937183},\n",
       "  {'stationcode': '16039',\n",
       "   'name': 'Exelmans - Versailles',\n",
       "   'distance': 279.35537451504047},\n",
       "  {'stationcode': '15104',\n",
       "   'name': 'Hôpital Européen Georges Pompidou',\n",
       "   'distance': 725.9808199551429},\n",
       "  {'stationcode': '16038',\n",
       "   'name': 'Molitor - Chardon-Lagache',\n",
       "   'distance': 393.6530345752737}]}"
      ]
     },
     "execution_count": 17,
     "metadata": {},
     "output_type": "execute_result"
    }
   ],
   "source": [
    "requests.get(url_base + \"?select=stationcode,name,distance(coordonnees_geo, geom'POINT(2.267888940737877 48.84197963193564)') as distance&where=within_distance(coordonnees_geo, geom'POINT(2.267888940737877 48.84197963193564)', 800m)\").json()"
   ]
  },
  {
   "cell_type": "markdown",
   "metadata": {},
   "source": [
    "#### Comparaison à une zone géographique\n",
    "\n",
    "La fonction `in_bbox()` teste si un champs est inclus dans une zone géographique rectangulaire, délimitée par deux points.\n",
    "\n",
    "Ici, on récupère les stations dans un rectangle contenant l'IUT."
   ]
  },
  {
   "cell_type": "code",
   "execution_count": 18,
   "metadata": {},
   "outputs": [
    {
     "data": {
      "text/plain": [
       "{'total_count': 8,\n",
       " 'results': [{'stationcode': '16034', 'name': \"Porte d'Auteuil\"},\n",
       "  {'stationcode': '16032', 'name': \"Eglise d'Auteuil\"},\n",
       "  {'stationcode': '16037', 'name': 'Molitor - Michel-Ange'},\n",
       "  {'stationcode': '16116', 'name': 'George Sand - Jean de La Fontaine'},\n",
       "  {'stationcode': '16033', 'name': \"Marché d'Auteuil\"},\n",
       "  {'stationcode': '16039', 'name': 'Exelmans - Versailles'},\n",
       "  {'stationcode': '16038', 'name': 'Molitor - Chardon-Lagache'},\n",
       "  {'stationcode': '16041', 'name': 'Versailles - Claude Terrasse'}]}"
      ]
     },
     "execution_count": 18,
     "metadata": {},
     "output_type": "execute_result"
    }
   ],
   "source": [
    "requests.get(url_base + \"?select=stationcode,name&where=in_bbox(coordonnees_geo,48.84,2.26,48.85,2.27)\").json()"
   ]
  },
  {
   "cell_type": "markdown",
   "metadata": {},
   "source": [
    "Et ici, celles qui n'y sont pas donc."
   ]
  },
  {
   "cell_type": "code",
   "execution_count": 19,
   "metadata": {},
   "outputs": [
    {
     "data": {
      "text/plain": [
       "{'total_count': 1478,\n",
       " 'results': [{'stationcode': '16107', 'name': 'Benjamin Godard - Victor Hugo'},\n",
       "  {'stationcode': '11104', 'name': 'Charonne - Robert et Sonia Delaunay'},\n",
       "  {'stationcode': '7002', 'name': 'Vaneau - Sèvres'},\n",
       "  {'stationcode': '5110', 'name': 'Lacépède - Monge'},\n",
       "  {'stationcode': '6108', 'name': 'Saint-Romain - Cherche-Midi'},\n",
       "  {'stationcode': '33006', 'name': 'André Karman - République'},\n",
       "  {'stationcode': '42016', 'name': 'Pierre et Marie Curie - Maurice Thorez'},\n",
       "  {'stationcode': '40011', 'name': 'Bas du Mont-Mesly'},\n",
       "  {'stationcode': '21010', 'name': 'Silly - Galliéni'},\n",
       "  {'stationcode': '17041', 'name': 'Guersant - Gouvion-Saint-Cyr'}]}"
      ]
     },
     "execution_count": 19,
     "metadata": {},
     "output_type": "execute_result"
    }
   ],
   "source": [
    "requests.get(url_base + \"?select=stationcode,name&where=not(in_bbox(coordonnees_geo,48.84,2.26,48.85,2.27))\").json()"
   ]
  },
  {
   "cell_type": "markdown",
   "metadata": {},
   "source": [
    "A noter qu'il existe une fonction permettant de chercher si un point appartient à une zone géographique de type polygone.\n",
    "\n",
    "### Calcul d'agrégat\n",
    "\n",
    "On peut aussi demander à l'API de faire un certain nombre de claculs en amont, en particulier des calculs d'agrégats, avec en plus la clause `group_by` qui permet de faire ce cacul pour chaque modalité d'un champs.\n",
    "\n",
    "Ici, on a le nombre de stations par ville et la capacité totale de celles-ci (10 villes seulement affichées pour raison de place)."
   ]
  },
  {
   "cell_type": "code",
   "execution_count": 20,
   "metadata": {
    "scrolled": false
   },
   "outputs": [
    {
     "data": {
      "text/plain": [
       "{'results': [{'nom_arrondissement_communes': 'Alfortville',\n",
       "   'count(*)': 5,\n",
       "   'sum(capacity)': 122},\n",
       "  {'nom_arrondissement_communes': 'Arcueil',\n",
       "   'count(*)': 4,\n",
       "   'sum(capacity)': 118},\n",
       "  {'nom_arrondissement_communes': 'Argenteuil',\n",
       "   'count(*)': 7,\n",
       "   'sum(capacity)': 225},\n",
       "  {'nom_arrondissement_communes': 'Asnières-sur-Seine',\n",
       "   'count(*)': 13,\n",
       "   'sum(capacity)': 329},\n",
       "  {'nom_arrondissement_communes': 'Aubervilliers',\n",
       "   'count(*)': 13,\n",
       "   'sum(capacity)': 404},\n",
       "  {'nom_arrondissement_communes': 'Bagneux',\n",
       "   'count(*)': 6,\n",
       "   'sum(capacity)': 155},\n",
       "  {'nom_arrondissement_communes': 'Bagnolet',\n",
       "   'count(*)': 8,\n",
       "   'sum(capacity)': 249},\n",
       "  {'nom_arrondissement_communes': 'Bobigny',\n",
       "   'count(*)': 5,\n",
       "   'sum(capacity)': 132},\n",
       "  {'nom_arrondissement_communes': 'Bois-Colombes',\n",
       "   'count(*)': 2,\n",
       "   'sum(capacity)': 60},\n",
       "  {'nom_arrondissement_communes': 'Boulogne-Billancourt',\n",
       "   'count(*)': 29,\n",
       "   'sum(capacity)': 877}]}"
      ]
     },
     "execution_count": 20,
     "metadata": {},
     "output_type": "execute_result"
    }
   ],
   "source": [
    "requests.get(url_base + \"?select=nom_arrondissement_communes,count(*),sum(capacity)&group_by=nom_arrondissement_communes&limit=10\").json()"
   ]
  },
  {
   "cell_type": "markdown",
   "metadata": {},
   "source": [
    "On peut bien évidemment ordonner ce résultat pour avoir les villes ayant le plus de stations en premier."
   ]
  },
  {
   "cell_type": "code",
   "execution_count": 21,
   "metadata": {
    "scrolled": false
   },
   "outputs": [
    {
     "data": {
      "text/plain": [
       "{'results': [{'nom_arrondissement_communes': 'Paris',\n",
       "   'nb_stations': 993,\n",
       "   'sum(capacity)': 31896},\n",
       "  {'nom_arrondissement_communes': 'Boulogne-Billancourt',\n",
       "   'nb_stations': 29,\n",
       "   'sum(capacity)': 877},\n",
       "  {'nom_arrondissement_communes': 'Montreuil',\n",
       "   'nb_stations': 23,\n",
       "   'sum(capacity)': 787},\n",
       "  {'nom_arrondissement_communes': 'Issy-les-Moulineaux',\n",
       "   'nb_stations': 22,\n",
       "   'sum(capacity)': 728},\n",
       "  {'nom_arrondissement_communes': 'Pantin',\n",
       "   'nb_stations': 21,\n",
       "   'sum(capacity)': 565},\n",
       "  {'nom_arrondissement_communes': 'Saint-Denis',\n",
       "   'nb_stations': 19,\n",
       "   'sum(capacity)': 666},\n",
       "  {'nom_arrondissement_communes': 'Ivry-sur-Seine',\n",
       "   'nb_stations': 18,\n",
       "   'sum(capacity)': 590},\n",
       "  {'nom_arrondissement_communes': 'Vitry-sur-Seine',\n",
       "   'nb_stations': 16,\n",
       "   'sum(capacity)': 425},\n",
       "  {'nom_arrondissement_communes': 'Créteil',\n",
       "   'nb_stations': 14,\n",
       "   'sum(capacity)': 218},\n",
       "  {'nom_arrondissement_communes': 'Asnières-sur-Seine',\n",
       "   'nb_stations': 13,\n",
       "   'sum(capacity)': 329}]}"
      ]
     },
     "execution_count": 21,
     "metadata": {},
     "output_type": "execute_result"
    }
   ],
   "source": [
    "requests.get(url_base + \"?select=nom_arrondissement_communes,count(*) as nb_stations,sum(capacity)&group_by=nom_arrondissement_communes&order_by=nb_stations DESC&limit=10\").json()"
   ]
  },
  {
   "cell_type": "markdown",
   "metadata": {},
   "source": [
    "### Fonctions spéciales de découpage\n",
    "\n",
    "#### Découpage d'un champs en intervalles\n",
    "\n",
    "La fonction `RANGE()` permet de transformer un champs contenant une valeur quantitative en plusieurs modalités, en créant des intervalles sur ces valeurs.\n",
    "\n",
    "Elle a deux fonctionnement possible :\n",
    "\n",
    "- par intervalles de même taille, en passant en paramètre un seul entier, qui sera la taille des intervalles créés\n",
    "- par intervalles définies explicitement, en passant en paramètre la liste des bornes des intervalles\n",
    "\n",
    "On répartit ici les stations sur la base de leur capacité, en créant des intervalles de taille 15."
   ]
  },
  {
   "cell_type": "code",
   "execution_count": 22,
   "metadata": {},
   "outputs": [
    {
     "data": {
      "text/plain": [
       "{'results': [{'RANGE(capacity,15)': '[0, 14]', 'count(*)': 44},\n",
       "  {'RANGE(capacity,15)': '[15, 29]', 'count(*)': 716},\n",
       "  {'RANGE(capacity,15)': '[30, 44]', 'count(*)': 510},\n",
       "  {'RANGE(capacity,15)': '[45, 59]', 'count(*)': 166},\n",
       "  {'RANGE(capacity,15)': '[60, 74]', 'count(*)': 49},\n",
       "  {'RANGE(capacity,15)': '[75, 89]', 'count(*)': 1}]}"
      ]
     },
     "execution_count": 22,
     "metadata": {},
     "output_type": "execute_result"
    }
   ],
   "source": [
    "requests.get(url_base + \"?select=count(*)&group_by=RANGE(capacity,15)\").json()"
   ]
  },
  {
   "cell_type": "markdown",
   "metadata": {},
   "source": [
    "Ici, on créé nous-même les intervalles (du minimum -- avec `*` -- à 14, de 15 à 19, de 20 à 25, de 25 à 30, de 30 à 40, et de 40 au maximum -- avec `*` encore). On renomme aussi le résultat avec la clause `as`."
   ]
  },
  {
   "cell_type": "code",
   "execution_count": 23,
   "metadata": {},
   "outputs": [
    {
     "data": {
      "text/plain": [
       "{'results': [{'capacity': '[*, 14]', 'count(*)': 44},\n",
       "  {'capacity': '[15, 19]', 'count(*)': 135},\n",
       "  {'capacity': '[20, 24]', 'count(*)': 303},\n",
       "  {'capacity': '[25, 29]', 'count(*)': 278},\n",
       "  {'capacity': '[30, 39]', 'count(*)': 408},\n",
       "  {'capacity': '[40, *]', 'count(*)': 318}]}"
      ]
     },
     "execution_count": 23,
     "metadata": {},
     "output_type": "execute_result"
    }
   ],
   "source": [
    "requests.get(url_base + \"?select=count(*)&group_by=RANGE(capacity,*,15,20,25,30,40,*) as capacity\").json()"
   ]
  },
  {
   "cell_type": "markdown",
   "metadata": {},
   "source": [
    "Il faut noter que ce découpage peut aussi se faire sur une date, en se basant sur une unité pour le découpage (chaque jour, chaque année, chaque heure...).\n",
    "\n",
    "#### Découpage selon un niveau de zoom\n",
    "\n",
    "La fonction `GEO_CLUSTER()` permet de répartir les éléments, géo-localisés par un champs spécifié, en fonction d'un niveau de zoom défini (entre 1 et 25).\n",
    "\n",
    "Nous découpons ici les stations sur la base d'un niveau de zoom égal à 10, ce qui créé 14 clusters de stations. On récupère de plus les centres de ces clusters."
   ]
  },
  {
   "cell_type": "code",
   "execution_count": 24,
   "metadata": {},
   "outputs": [
    {
     "data": {
      "text/plain": [
       "{'results': [{'GEO_CLUSTER(coordonnees_geo,10)': {'cluster_centroid': {'lat': 48.87069219275126,\n",
       "     'lon': 2.364101540979836}},\n",
       "   'count(*)': 614},\n",
       "  {'GEO_CLUSTER(coordonnees_geo,10)': {'cluster_centroid': {'lat': 48.83896064189873,\n",
       "     'lon': 2.414170870204167}},\n",
       "   'count(*)': 174},\n",
       "  {'GEO_CLUSTER(coordonnees_geo,10)': {'cluster_centroid': {'lat': 48.89005639590323,\n",
       "     'lon': 2.3087780007525627}},\n",
       "   'count(*)': 207},\n",
       "  {'GEO_CLUSTER(coordonnees_geo,10)': {'cluster_centroid': {'lat': 48.912563064897604,\n",
       "     'lon': 2.26082076318562}},\n",
       "   'count(*)': 33},\n",
       "  {'GEO_CLUSTER(coordonnees_geo,10)': {'cluster_centroid': {'lat': 48.842625450137454,\n",
       "     'lon': 2.2577943024225533}},\n",
       "   'count(*)': 136},\n",
       "  {'GEO_CLUSTER(coordonnees_geo,10)': {'cluster_centroid': {'lat': 48.947931905942305,\n",
       "     'lon': 2.243483570803489}},\n",
       "   'count(*)': 7},\n",
       "  {'GEO_CLUSTER(coordonnees_geo,10)': {'cluster_centroid': {'lat': 48.87852969300002,\n",
       "     'lon': 2.194462900981307}},\n",
       "   'count(*)': 15},\n",
       "  {'GEO_CLUSTER(coordonnees_geo,10)': {'cluster_centroid': {'lat': 48.81541839335114,\n",
       "     'lon': 2.519368138164282}},\n",
       "   'count(*)': 3},\n",
       "  {'GEO_CLUSTER(coordonnees_geo,10)': {'cluster_centroid': {'lat': 48.78870210818652,\n",
       "     'lon': 2.4318400143008483}},\n",
       "   'count(*)': 38},\n",
       "  {'GEO_CLUSTER(coordonnees_geo,10)': {'cluster_centroid': {'lat': 48.82751251107558,\n",
       "     'lon': 2.322490131248481}},\n",
       "   'count(*)': 199},\n",
       "  {'GEO_CLUSTER(coordonnees_geo,10)': {'cluster_centroid': {'lat': 48.85151231267418,\n",
       "     'lon': 2.295304355569757}},\n",
       "   'count(*)': 13},\n",
       "  {'GEO_CLUSTER(coordonnees_geo,10)': {'cluster_centroid': {'lat': 48.788782463774886,\n",
       "     'lon': 2.3395724095670247}},\n",
       "   'count(*)': 28},\n",
       "  {'GEO_CLUSTER(coordonnees_geo,10)': {'cluster_centroid': {'lat': 48.793271952308714,\n",
       "     'lon': 2.265569856390357}},\n",
       "   'count(*)': 9},\n",
       "  {'GEO_CLUSTER(coordonnees_geo,10)': {'cluster_centroid': {'lat': 48.82140319375321,\n",
       "     'lon': 2.194737710058689}},\n",
       "   'count(*)': 10}]}"
      ]
     },
     "execution_count": 24,
     "metadata": {},
     "output_type": "execute_result"
    }
   ],
   "source": [
    "requests.get(url_base + \"?select=count(*)&group_by=GEO_CLUSTER(coordonnees_geo,10)\").json()"
   ]
  },
  {
   "cell_type": "markdown",
   "metadata": {},
   "source": [
    "## TRAVAIL A FAIRE\n",
    "\n",
    "### Données\n",
    "\n",
    "A partir de l'API **Observation météorologique historiques France (SYNOP)**, vous devez répondre aux demandes qui suivent. Vous trouverez des informations sur cette base à cette adresse :\n",
    "\n",
    "<https://public.opendatasoft.com/explore/dataset/donnees-synop-essentielles-omm/information/?sort=date>\n",
    "\n",
    "Le code ci-dessous permet de récupérer les premiers éléments."
   ]
  },
  {
   "cell_type": "code",
   "execution_count": 25,
   "metadata": {},
   "outputs": [
    {
     "data": {
      "text/plain": [
       "{'total_count': 2535486,\n",
       " 'results': [{'numer_sta': '78925',\n",
       "   'date': '2017-04-06T15:00:00+00:00',\n",
       "   'pmer': 101830,\n",
       "   'tend': -10.0,\n",
       "   'cod_tend': '8',\n",
       "   'dd': 110,\n",
       "   'ff': 8.3,\n",
       "   't': 303.45,\n",
       "   'td': 294.25,\n",
       "   'u': 58,\n",
       "   'vv': 53550.0,\n",
       "   'ww': None,\n",
       "   'w1': None,\n",
       "   'w2': None,\n",
       "   'n': None,\n",
       "   'nbas': None,\n",
       "   'hbas': None,\n",
       "   'cl': None,\n",
       "   'cm': None,\n",
       "   'ch': None,\n",
       "   'pres': 101740.0,\n",
       "   'niv_bar': None,\n",
       "   'geop': None,\n",
       "   'tend24': -10.0,\n",
       "   'tn12': None,\n",
       "   'tn24': None,\n",
       "   'tx12': None,\n",
       "   'tx24': None,\n",
       "   'tminsol': None,\n",
       "   'sw': None,\n",
       "   'tw': None,\n",
       "   'raf10': None,\n",
       "   'rafper': None,\n",
       "   'per': None,\n",
       "   'etat_sol': None,\n",
       "   'ht_neige': None,\n",
       "   'ssfrai': None,\n",
       "   'perssfrai': None,\n",
       "   'rr1': 0.0,\n",
       "   'rr3': 0.0,\n",
       "   'rr6': 0.0,\n",
       "   'rr12': -0.1,\n",
       "   'rr24': -0.1,\n",
       "   'phenspe1': None,\n",
       "   'phenspe2': None,\n",
       "   'phenspe3': None,\n",
       "   'phenspe4': None,\n",
       "   'nnuage1': None,\n",
       "   'ctype1': None,\n",
       "   'hnuage1': None,\n",
       "   'nnuage2': None,\n",
       "   'ctype2': None,\n",
       "   'hnuage2': None,\n",
       "   'nnuage3': None,\n",
       "   'ctype3': None,\n",
       "   'hnuage3': None,\n",
       "   'nnuage4': None,\n",
       "   'ctype4': None,\n",
       "   'hnuage4': None,\n",
       "   'coordonnees': {'lon': -60.995667, 'lat': 14.595333},\n",
       "   'nom': 'LAMENTIN-AERO',\n",
       "   'type_de_tendance_barometrique': 'Stationnaire ou en hausse, puis en baisse, ou en baisse, puis en baisse plus rapide',\n",
       "   'temps_passe_1': None,\n",
       "   'temps_present': None,\n",
       "   'tc': 30.30000000000001,\n",
       "   'tn12c': None,\n",
       "   'tn24c': None,\n",
       "   'tx12c': None,\n",
       "   'tx24c': None,\n",
       "   'tminsolc': None,\n",
       "   'latitude': 14.595333,\n",
       "   'longitude': -60.995667,\n",
       "   'altitude': 3,\n",
       "   'libgeo': 'Le Lamentin',\n",
       "   'codegeo': '97213',\n",
       "   'nom_epci': 'CA du Centre de la Martinique',\n",
       "   'code_epci': '249720061',\n",
       "   'nom_dept': 'Martinique',\n",
       "   'code_dep': '972',\n",
       "   'nom_reg': 'Martinique',\n",
       "   'code_reg': '02',\n",
       "   'mois_de_l_annee': 4}]}"
      ]
     },
     "execution_count": 25,
     "metadata": {},
     "output_type": "execute_result"
    }
   ],
   "source": [
    "url_base = \"https://public.opendatasoft.com/api/explore/v2.1/catalog/datasets/donnees-synop-essentielles-omm/records?limit=1\"\n",
    "requests.get(url_base).json()\n"
   ]
  },
  {
   "cell_type": "markdown",
   "metadata": {},
   "source": [
    "### Demandes\n",
    "\n",
    "- Récupérer les 500 premières observations\n",
    "- Récupérer les observations faites en 2020\n",
    "- Récupérer les observations à Ajaccio\n",
    "- Récupérer les observations faites à plus de 200 mètres d'altitude, en 2022\n",
    "- Récupérer les observations à moins de 100km de Paris (IUT comme point de référence)\n",
    "- Combien y a t'il d'observations par régions ?\n",
    "- Combien y a t'il de stations par régions ?"
   ]
  },
  {
   "cell_type": "code",
   "execution_count": null,
   "metadata": {},
   "outputs": [],
   "source": []
  }
 ],
 "metadata": {
  "kernelspec": {
   "display_name": "Python 3 (ipykernel)",
   "language": "python",
   "name": "python3"
  },
  "language_info": {
   "codemirror_mode": {
    "name": "ipython",
    "version": 3
   },
   "file_extension": ".py",
   "mimetype": "text/x-python",
   "name": "python",
   "nbconvert_exporter": "python",
   "pygments_lexer": "ipython3",
   "version": "3.9.9"
  }
 },
 "nbformat": 4,
 "nbformat_minor": 2
}
