{
 "cells": [
  {
   "cell_type": "markdown",
   "metadata": {},
   "source": [
    "# Séance 3 : Web-scraping avec Python\n",
    "\n",
    "- Inspiré par cette page : <https://outscraper.com/how-to-scrape-google-maps-with-python-and-selenium/>\n",
    "- Installation à faire auparavant :\n",
    "    - Packages [`selenium`](https://selenium-python.readthedocs.io/api.html#locate-elements-by) et [`bs4`](https://www.crummy.com/software/BeautifulSoup) (BeautifulSoup) pour Python\n",
    "    - Exécutable [`chromedriver`](https://chromedriver.chromium.org/downloads) (selon votre OS)\n",
    "        - Versions stables disponibles sur [cette page](https://googlechromelabs.github.io/chrome-for-testing/#stable) (copier-coller le lien HTML dans la barre du navigateur pour télécharger le fichier)"
   ]
  },
  {
   "cell_type": "markdown",
   "metadata": {},
   "source": [
    "## Première étape : configurer le navigateur \n",
    "\n",
    "Vous devez placer `chromedriver` dans le même répertoire que votre notebook"
   ]
  },
  {
   "cell_type": "code",
   "execution_count": 1,
   "metadata": {},
   "outputs": [],
   "source": [
    "from selenium import webdriver\n",
    "\n",
    "driver = webdriver.Chrome()"
   ]
  },
  {
   "cell_type": "markdown",
   "metadata": {},
   "source": [
    "### Création de l'URL à récupérer"
   ]
  },
  {
   "cell_type": "code",
   "execution_count": 2,
   "metadata": {},
   "outputs": [
    {
     "data": {
      "text/plain": [
       "'https://www.google.com/maps/search/IUT+paris+rives+de+seine/@48.8489968,2.3125954,12z'"
      ]
     },
     "execution_count": 2,
     "metadata": {},
     "output_type": "execute_result"
    }
   ],
   "source": [
    "base_url = \"https://www.google.com/maps/search/\"\n",
    "place_info = \"IUT+paris+rives+de+seine\"\n",
    "comp_url = \"/@48.8489968,2.3125954,12z\"\n",
    "\n",
    "url = base_url + place_info + comp_url\n",
    "url"
   ]
  },
  {
   "cell_type": "markdown",
   "metadata": {},
   "source": [
    "\n",
    "## Deuxième étape : récupération du contenu HTML\n",
    "\n",
    "- Lors de l'exécution de ce code, une fenêtre va s'ouvrir dans laquelle vous devrez cliquer (a priori sur \"Tout accepter\")\n",
    "- **NE PAS FERMER CETTE FENETRE !**"
   ]
  },
  {
   "cell_type": "code",
   "execution_count": 3,
   "metadata": {},
   "outputs": [],
   "source": [
    "driver.get(url)"
   ]
  },
  {
   "cell_type": "markdown",
   "metadata": {},
   "source": [
    "\n",
    "- Lancer le code suivant pour effectivement récupérer le contenu désiré"
   ]
  },
  {
   "cell_type": "code",
   "execution_count": 11,
   "metadata": {},
   "outputs": [],
   "source": [
    "html = driver.page_source"
   ]
  },
  {
   "cell_type": "markdown",
   "metadata": {},
   "source": [
    "\n",
    "## Troisième étape : recherche de ce qui nous intéresse (ici la partie Informations)"
   ]
  },
  {
   "cell_type": "code",
   "execution_count": 12,
   "metadata": {},
   "outputs": [
    {
     "data": {
      "text/plain": [
       "[<div aria-label=\"IUT de Paris - Rives de Seine - Université Paris Cité - Informations\" class=\"m6QErb XiKgde\" role=\"region\" style=\"\"><div jslog=\"39448;\" ve-visible=\"cf\"></div><div jslog=\"39497;\" ve-visible=\"cf\"></div><div class=\"RcCsl fVHpi w4vB1d NOE9ve M0S7ae AG25L\"><div class=\"OyjIsf\"></div><button aria-label=\"Adresse: 143 Av. de Versailles, 75016 Paris \" class=\"CsEnBe\" data-item-id=\"address\" data-tooltip=\"Copier l'adresse\" jsaction=\"pane.wfvdle34;clickmod:pane.wfvdle34;focus:pane.focusTooltip;blur:pane.blurTooltip\" jslog=\"36622; track:click; mutable:true;\"><div class=\"AeaXub\"><div class=\"cXHGnc\"><span aria-hidden=\"true\" class=\"google-symbols PHazN\" style=\"font-size: 24px;\"></span></div><div class=\"rogA2c\"><div class=\"Io6YTe fontBodyMedium kR99db fdkmkc\">143 Av. de Versailles, 75016 Paris</div><div class=\"gSkmPd fontBodySmall CuiGbf DshQNd\"></div></div></div></button><div class=\"UCw5gc\"><div class=\"C9yzub\"><div class=\"etWJQ kdfrQc NUqjXc\"><button aria-label=\"Copier l'adresse\" class=\"g88MCb S9kvJb\" data-tooltip=\"Copier l'adresse\" data-value=\"Copier l'adresse\" jsaction=\"pane.wfvdle35;keydown:pane.wfvdle35;mouseover:pane.wfvdle35;mouseout:pane.wfvdle35;focus:pane.focusTooltip;blur:pane.blurTooltip\" jslog=\"38087;track:click;mutable:true;\"><span class=\"DVeyrd\"><div class=\"OyjIsf zemfqc\"></div><span aria-hidden=\"true\" class=\"Cw1rxd google-symbols G47vBd SwaGS\" style=\"font-size: 18px;\"></span></span></button></div></div></div></div><div class=\"OqCZI fontBodyMedium WVXvdc\" jslog=\"36914;metadata:WyIwYWhVS0V3aVgycnZfbnJPS0F4V0pWS1FFSFo0aEtINFE4QmNJQXlnQSJd\"><div aria-expanded=\"false\" class=\"OMl5r hH0dDd jBYmhd\" data-hide-tooltip-on-mouse-move=\"true\" jsaction=\"pane.openhours.wfvdle36.dropdown; keydown:pane.openhours.wfvdle36.dropdown\" jslog=\"14925;track:click,keydown_click;mutable:true;metadata:WyIwYWhVS0V3aVgycnZfbnJPS0F4V0pWS1FFSFo0aEtINFE4QmNJQXlnQSJd\" role=\"button\" tabindex=\"0\"><div class=\"OyjIsf\"></div><span aria-label=\"Horaires\" class=\"LT79uc google-symbols PHazN\" role=\"img\" style=\"font-size: 24px;\"></span><div class=\"MkV9\"><div class=\"o0Svhf\"><span class=\"ZDu9vd\"><span><span style=\"font-weight: 400; color: rgba(25,134,57,1.00);\">Ouvert</span><span style=\"font-weight: 400;\"> ⋅ Ferme à 19:00</span></span></span> <span aria-label=\"Afficher les horaires d'ouverture pendant la semaine\" class=\"puWIL hKrmvd google-symbols OazX1c\" role=\"img\" style=\"font-size: 18px;\"></span></div></div></div><div aria-label=\"jeudi, de 07:45 à 19:00; vendredi, de 07:45 à 19:00; samedi, de 07:45 à 12:30; dimanche, Fermé; lundi, de 07:45 à 19:00; mardi (Réveillon de Noël), de 07:45 à 19:00, Les horaires peuvent être modifiés.; mercredi (Jour de Noël), de 07:45 à 19:00, Les horaires peuvent être modifiés.. Masquer les horaires d'ouverture pendant la semaine\" class=\"t39EBf GUrTXd\"><div><table class=\"eK4R0e fontBodyMedium\"><tbody><tr class=\"y0skZc\"><td class=\"ylH6lf fontTitleSmall\"><div>jeudi</div></td><td aria-label=\"de 07:45 à 19:00\" class=\"mxowUb\" role=\"text\"><ul class=\"fontTitleSmall\"><li class=\"G8aQO\">07:45–19:00</li></ul></td><td class=\"HuudEc\"><button aria-label=\"jeudi, de 07:45 à 19:00, Copier les horaires d'ouverture\" class=\"mWUh3d\" data-hide-tooltip-on-mouse-move=\"true\" data-tooltip=\"Copier les horaires d'ouverture\" data-value=\"jeudi, 07:45–19:00\" jsaction=\"pane.openhours.wfvdle36.copy; focus:pane.focusTooltip; blur:pane.blurTooltip\"><div class=\"OyjIsf zemfqc\"></div><span aria-hidden=\"true\" class=\"GYnni google-symbols G47vBd\" style=\"font-size: 18px;\"></span></button></td></tr><tr class=\"y0skZc\"><td class=\"ylH6lf\"><div>vendredi</div></td><td aria-label=\"de 07:45 à 19:00\" class=\"mxowUb\" role=\"text\"><ul><li class=\"G8aQO\">07:45–19:00</li></ul></td><td class=\"HuudEc\"><button aria-label=\"vendredi, de 07:45 à 19:00, Copier les horaires d'ouverture\" class=\"mWUh3d\" data-hide-tooltip-on-mouse-move=\"true\" data-tooltip=\"Copier les horaires d'ouverture\" data-value=\"vendredi, 07:45–19:00\" jsaction=\"pane.openhours.wfvdle36.copy; focus:pane.focusTooltip; blur:pane.blurTooltip\"><div class=\"OyjIsf zemfqc\"></div><span aria-hidden=\"true\" class=\"GYnni google-symbols G47vBd\" style=\"font-size: 18px;\"></span></button></td></tr><tr class=\"y0skZc\"><td class=\"ylH6lf\"><div>samedi</div></td><td aria-label=\"de 07:45 à 12:30\" class=\"mxowUb\" role=\"text\"><ul><li class=\"G8aQO\">07:45–12:30</li></ul></td><td class=\"HuudEc\"><button aria-label=\"samedi, de 07:45 à 12:30, Copier les horaires d'ouverture\" class=\"mWUh3d\" data-hide-tooltip-on-mouse-move=\"true\" data-tooltip=\"Copier les horaires d'ouverture\" data-value=\"samedi, 07:45–12:30\" jsaction=\"pane.openhours.wfvdle36.copy; focus:pane.focusTooltip; blur:pane.blurTooltip\"><div class=\"OyjIsf zemfqc\"></div><span aria-hidden=\"true\" class=\"GYnni google-symbols G47vBd\" style=\"font-size: 18px;\"></span></button></td></tr><tr class=\"y0skZc\"><td class=\"ylH6lf\"><div>dimanche</div></td><td aria-label=\"Fermé\" class=\"mxowUb\" role=\"text\"><ul><li class=\"G8aQO\">Fermé</li></ul></td><td class=\"HuudEc\"><button aria-label=\"dimanche, Fermé, Copier les horaires d'ouverture\" class=\"mWUh3d\" data-hide-tooltip-on-mouse-move=\"true\" data-tooltip=\"Copier les horaires d'ouverture\" data-value=\"dimanche, Fermé\" jsaction=\"pane.openhours.wfvdle36.copy; focus:pane.focusTooltip; blur:pane.blurTooltip\"><div class=\"OyjIsf zemfqc\"></div><span aria-hidden=\"true\" class=\"GYnni google-symbols G47vBd\" style=\"font-size: 18px;\"></span></button></td></tr><tr class=\"y0skZc\"><td class=\"ylH6lf\"><div>lundi</div></td><td aria-label=\"de 07:45 à 19:00\" class=\"mxowUb\" role=\"text\"><ul><li class=\"G8aQO\">07:45–19:00</li></ul></td><td class=\"HuudEc\"><button aria-label=\"lundi, de 07:45 à 19:00, Copier les horaires d'ouverture\" class=\"mWUh3d\" data-hide-tooltip-on-mouse-move=\"true\" data-tooltip=\"Copier les horaires d'ouverture\" data-value=\"lundi, 07:45–19:00\" jsaction=\"pane.openhours.wfvdle36.copy; focus:pane.focusTooltip; blur:pane.blurTooltip\"><div class=\"OyjIsf zemfqc\"></div><span aria-hidden=\"true\" class=\"GYnni google-symbols G47vBd\" style=\"font-size: 18px;\"></span></button></td></tr><tr class=\"y0skZc\"><td class=\"ylH6lf\"><div>mardi</div><div class=\"GfF3rf\">(Réveillon de Noël)</div></td><td aria-label=\"de 07:45 à 19:00, Les horaires peuvent être modifiés.\" class=\"mxowUb\" role=\"text\"><ul><li class=\"G8aQO\">07:45–19:00</li></ul><div class=\"GfF3rf\"> <span class=\"zdqHHd\">Les horaires peuvent être différents</span></div></td><td class=\"HuudEc\"><button aria-label=\"mardi (Réveillon de Noël), de 07:45 à 19:00, Les horaires peuvent être modifiés., Copier les horaires d'ouverture\" class=\"mWUh3d\" data-hide-tooltip-on-mouse-move=\"true\" data-tooltip=\"Copier les horaires d'ouverture\" data-value=\"mardi (Réveillon de Noël), 07:45–19:00, Les horaires peuvent être modifiés.\" jsaction=\"pane.openhours.wfvdle36.copy; focus:pane.focusTooltip; blur:pane.blurTooltip\"><div class=\"OyjIsf zemfqc\"></div><span aria-hidden=\"true\" class=\"GYnni google-symbols G47vBd\" style=\"font-size: 18px;\"></span></button></td></tr><tr class=\"y0skZc\"><td class=\"ylH6lf\"><div>mercredi</div><div class=\"GfF3rf\">(Jour de Noël)</div></td><td aria-label=\"de 07:45 à 19:00, Les horaires peuvent être modifiés.\" class=\"mxowUb\" role=\"text\"><ul><li class=\"G8aQO\">07:45–19:00</li></ul><div class=\"GfF3rf\"> <span class=\"zdqHHd\">Les horaires peuvent être différents</span></div></td><td class=\"HuudEc\"><button aria-label=\"mercredi (Jour de Noël), de 07:45 à 19:00, Les horaires peuvent être modifiés., Copier les horaires d'ouverture\" class=\"mWUh3d\" data-hide-tooltip-on-mouse-move=\"true\" data-tooltip=\"Copier les horaires d'ouverture\" data-value=\"mercredi (Jour de Noël), 07:45–19:00, Les horaires peuvent être modifiés.\" jsaction=\"pane.openhours.wfvdle36.copy; focus:pane.focusTooltip; blur:pane.blurTooltip\"><div class=\"OyjIsf zemfqc\"></div><span aria-hidden=\"true\" class=\"GYnni google-symbols G47vBd\" style=\"font-size: 18px;\"></span></button></td></tr></tbody></table><div class=\"onOnO\"><div class=\"\"><button aria-label=\"Suggérer une modification des horaires d'ouverture\" class=\"M77dve\" jsaction=\"pane.wfvdle37\" jslog=\"119438;track:click;mutable:true;metadata:WyIwYWhVS0V3aVgycnZfbnJPS0F4V0pWS1FFSFo0aEtINFE4QmNJQXlnQSJd\"><div class=\"BgrMEd cYlvTc VOgY4\"><div class=\"OyjIsf zemfqc\"></div><span class=\"wNNZR fontTitleSmall\">Suggérer de nouveaux horaires</span></div></button></div></div></div></div><div class=\"z6qSc GUrTXd\"><div><div></div><div class=\"uLQcoc\"></div></div></div></div><div class=\"RcCsl fVHpi w4vB1d NOE9ve M0S7ae AG25L\"><div class=\"OyjIsf\"></div><a aria-label=\"Site Web: iutparis-seine.u-paris.fr \" class=\"CsEnBe\" data-item-id=\"authority\" data-tooltip=\"Accéder au site Web\" href=\"https://iutparis-seine.u-paris.fr/\" jsaction=\"pane.wfvdle38;clickmod:pane.wfvdle38;focus:pane.focusTooltip;blur:pane.blurTooltip\" jslog=\"3443; track:click; mutable:true;metadata:W251bGwsIixBT3ZWYXcwUWNzQWRUa0ZvcGZuMW9ZaHhtbkZ3LCwwYWhVS0V3aVgycnZfbnJPS0F4V0pWS1FFSFo0aEtINFE2MWdJRXlnTywiXQ==\"><div class=\"AeaXub\"><div class=\"cXHGnc\"><span aria-hidden=\"true\" class=\"google-symbols PHazN\" style=\"font-size: 24px;\"></span></div><div class=\"rogA2c ITvuef\"><div class=\"Io6YTe fontBodyMedium kR99db fdkmkc\">iutparis-seine.u-paris.fr</div><div class=\"gSkmPd fontBodySmall CuiGbf DshQNd\"></div></div></div></a><div class=\"UCw5gc\"><div class=\"C9yzub\"><div class=\"etWJQ kdfrQc NUqjXc\"><a aria-label=\"Accéder au site Web\" class=\"lcr4fd S9kvJb\" data-tooltip=\"Accéder au site Web\" data-value=\"Accéder au site Web\" href=\"https://iutparis-seine.u-paris.fr/\" jsaction=\"pane.wfvdle39;keydown:pane.wfvdle39;mouseover:pane.wfvdle39;mouseout:pane.wfvdle39;focus:pane.focusTooltip;blur:pane.blurTooltip\" jslog=\"38093;track:click;mutable:true;metadata:W251bGwsIixBT3ZWYXcwUWNzQWRUa0ZvcGZuMW9ZaHhtbkZ3LCwwYWhVS0V3aVgycnZfbnJPS0F4V0pWS1FFSFo0aEtINFE2MWdJRXlnTywiXQ==\"><span class=\"DVeyrd\"><div class=\"OyjIsf zemfqc\"></div><span aria-hidden=\"true\" class=\"Cw1rxd google-symbols G47vBd SwaGS\" style=\"font-size: 18px;\"></span></span></a></div><div class=\"etWJQ kdfrQc NUqjXc\"><button aria-label=\"Copier le site Web\" class=\"g88MCb S9kvJb\" data-tooltip=\"Copier le site Web\" data-value=\"Copier le site Web\" jsaction=\"pane.wfvdle40;keydown:pane.wfvdle40;mouseover:pane.wfvdle40;mouseout:pane.wfvdle40;focus:pane.focusTooltip;blur:pane.blurTooltip\"><span class=\"DVeyrd\"><div class=\"OyjIsf zemfqc\"></div><span aria-hidden=\"true\" class=\"Cw1rxd google-symbols G47vBd SwaGS\" style=\"font-size: 18px;\"></span></span></button></div></div></div></div><div class=\"RcCsl fVHpi w4vB1d NOE9ve M0S7ae AG25L\"><div class=\"OyjIsf\"></div><button aria-label=\"Numéro de téléphone: 01 76 53 47 00 \" class=\"CsEnBe\" data-item-id=\"phone:tel:0176534700\" data-tooltip=\"Copier le numéro de téléphone\" jsaction=\"pane.wfvdle41;clickmod:pane.wfvdle41;focus:pane.focusTooltip;blur:pane.blurTooltip\" jslog=\"18491; track:click; mutable:true;metadata:WyIwYWhVS0V3aVgycnZfbnJPS0F4V0pWS1FFSFo0aEtINFFfZG9CQ0JBb0RBIl0=\"><div class=\"AeaXub\"><div class=\"cXHGnc\"><span aria-hidden=\"true\" class=\"google-symbols NhBTye PHazN\" style=\"font-size: 24px;\"></span></div><div class=\"rogA2c\"><div class=\"Io6YTe fontBodyMedium kR99db fdkmkc\">01 76 53 47 00</div><div class=\"gSkmPd fontBodySmall CuiGbf DshQNd\"></div></div></div></button><div class=\"UCw5gc\"><div class=\"C9yzub\"><div class=\"etWJQ kdfrQc NUqjXc\"><button aria-label=\"Copier le numéro de téléphone\" class=\"g88MCb S9kvJb\" data-tooltip=\"Copier le numéro de téléphone\" data-value=\"Copier le numéro de téléphone\" jsaction=\"pane.wfvdle42;keydown:pane.wfvdle42;mouseover:pane.wfvdle42;mouseout:pane.wfvdle42;focus:pane.focusTooltip;blur:pane.blurTooltip\" jslog=\"38097;track:click;mutable:true;\"><span class=\"DVeyrd\"><div class=\"OyjIsf zemfqc\"></div><span aria-hidden=\"true\" class=\"Cw1rxd google-symbols G47vBd SwaGS\" style=\"font-size: 18px;\"></span></span></button></div><div class=\"etWJQ kdfrQc NUqjXc\"><a aria-label=\"Composer le numéro de téléphone\" class=\"lcr4fd S9kvJb\" data-tooltip=\"Composer le numéro de téléphone\" data-value=\"Composer le numéro de téléphone\" href=\"tel:0176534700\" jsaction=\"pane.wfvdle43;keydown:pane.wfvdle43;mouseover:pane.wfvdle43;mouseout:pane.wfvdle43;focus:pane.focusTooltip;blur:pane.blurTooltip\" jslog=\"38096;track:click;mutable:true;metadata:WyIwYWhVS0V3aVgycnZfbnJPS0F4V0pWS1FFSFo0aEtINFFfZG9CQ0JBb0RBIl0=\"><span class=\"DVeyrd\"><div class=\"OyjIsf zemfqc\"></div><span aria-hidden=\"true\" class=\"Cw1rxd google-symbols SwaGS\" style=\"font-size: 18px;\"></span></span></a></div></div></div></div><div class=\"RcCsl fVHpi w4vB1d NOE9ve M0S7ae AG25L\"><div class=\"OyjIsf\"></div><button aria-label=\"Plus code: R7R9+R4 Paris\" class=\"CsEnBe\" data-item-id=\"oloc\" data-tooltip=\"Copier le plus code\" jsaction=\"pane.wfvdle44;clickmod:pane.wfvdle44;focus:pane.focusTooltip;blur:pane.blurTooltip\" jslog=\"27644; track:click; mutable:true;\"><div class=\"AeaXub\"><div class=\"cXHGnc\"><span aria-hidden=\"true\" class=\"google-symbols PHazN\" style=\"font-size: 24px;\"></span></div><div class=\"rogA2c\"><div class=\"Io6YTe fontBodyMedium kR99db fdkmkc\">R7R9+R4 Paris</div><div class=\"gSkmPd fontBodySmall CuiGbf DshQNd\"></div></div></div></button><div class=\"UCw5gc\"><div class=\"C9yzub\"><div class=\"etWJQ kdfrQc NUqjXc\"><button aria-label=\"Copier le plus code\" class=\"g88MCb S9kvJb\" data-tooltip=\"Copier le plus code\" data-value=\"Copier le plus code\" jsaction=\"pane.wfvdle45;keydown:pane.wfvdle45;mouseover:pane.wfvdle45;mouseout:pane.wfvdle45;focus:pane.focusTooltip;blur:pane.blurTooltip\" jslog=\"55025;track:click;mutable:true;\"><span class=\"DVeyrd\"><div class=\"OyjIsf zemfqc\"></div><span aria-hidden=\"true\" class=\"Cw1rxd google-symbols G47vBd SwaGS\" style=\"font-size: 18px;\"></span></span></button></div><div class=\"etWJQ kdfrQc NUqjXc\"><button aria-label=\"En savoir plus sur les plus codes\" class=\"g88MCb S9kvJb\" data-tooltip=\"En savoir plus sur les plus codes\" data-value=\"En savoir plus sur les plus codes\" jsaction=\"pane.wfvdle46;keydown:pane.wfvdle46;mouseover:pane.wfvdle46;mouseout:pane.wfvdle46;focus:pane.focusTooltip;blur:pane.blurTooltip\" jslog=\"27021;track:click;mutable:true;\"><span class=\"DVeyrd\"><div class=\"OyjIsf zemfqc\"></div><span aria-hidden=\"true\" class=\"Cw1rxd google-symbols SwaGS\" style=\"font-size: 18px;\"></span></span></button></div></div></div></div></div>]"
      ]
     },
     "execution_count": 12,
     "metadata": {},
     "output_type": "execute_result"
    }
   ],
   "source": [
    "from bs4 import BeautifulSoup\n",
    "\n",
    "soup = BeautifulSoup(html)\n",
    "results = soup.select(\"div[aria-label*='Informations']\")\n",
    "results"
   ]
  },
  {
   "cell_type": "markdown",
   "metadata": {},
   "source": [
    "\n",
    "- Si on cherche s'il y a un site web "
   ]
  },
  {
   "cell_type": "code",
   "execution_count": 13,
   "metadata": {},
   "outputs": [
    {
     "data": {
      "text/plain": [
       "[<a aria-label=\"Site Web: iutparis-seine.u-paris.fr \" class=\"CsEnBe\" data-item-id=\"authority\" data-tooltip=\"Accéder au site Web\" href=\"https://iutparis-seine.u-paris.fr/\" jsaction=\"pane.wfvdle38;clickmod:pane.wfvdle38;focus:pane.focusTooltip;blur:pane.blurTooltip\" jslog=\"3443; track:click; mutable:true;metadata:W251bGwsIixBT3ZWYXcwUWNzQWRUa0ZvcGZuMW9ZaHhtbkZ3LCwwYWhVS0V3aVgycnZfbnJPS0F4V0pWS1FFSFo0aEtINFE2MWdJRXlnTywiXQ==\"><div class=\"AeaXub\"><div class=\"cXHGnc\"><span aria-hidden=\"true\" class=\"google-symbols PHazN\" style=\"font-size: 24px;\"></span></div><div class=\"rogA2c ITvuef\"><div class=\"Io6YTe fontBodyMedium kR99db fdkmkc\">iutparis-seine.u-paris.fr</div><div class=\"gSkmPd fontBodySmall CuiGbf DshQNd\"></div></div></div></a>]"
      ]
     },
     "execution_count": 13,
     "metadata": {},
     "output_type": "execute_result"
    }
   ],
   "source": [
    "results = soup.select(\"a[aria-label*='Site Web']\")\n",
    "results"
   ]
  },
  {
   "cell_type": "markdown",
   "metadata": {},
   "source": [
    "Pour avoir exactement l'adresse, on récupère le texte du premier résultat obtenu précédemment"
   ]
  },
  {
   "cell_type": "code",
   "execution_count": 14,
   "metadata": {},
   "outputs": [
    {
     "data": {
      "text/plain": [
       "'\\ue80biutparis-seine.u-paris.fr'"
      ]
     },
     "execution_count": 14,
     "metadata": {},
     "output_type": "execute_result"
    }
   ],
   "source": [
    "results[0].text"
   ]
  },
  {
   "cell_type": "markdown",
   "metadata": {},
   "source": [
    "Mais on peut aussi vouloir récupérer le lien web (dans `href`)"
   ]
  },
  {
   "cell_type": "code",
   "execution_count": 15,
   "metadata": {},
   "outputs": [
    {
     "data": {
      "text/plain": [
       "'https://iutparis-seine.u-paris.fr/'"
      ]
     },
     "execution_count": 15,
     "metadata": {},
     "output_type": "execute_result"
    }
   ],
   "source": [
    "results[0][\"href\"]"
   ]
  },
  {
   "cell_type": "markdown",
   "metadata": {},
   "source": [
    "## Dernière étape : une fois qu'on a récupéré tout ce qu'on souhaite, on ferme correctement le navigateur"
   ]
  },
  {
   "cell_type": "code",
   "execution_count": 16,
   "metadata": {},
   "outputs": [],
   "source": [
    "driver.close()"
   ]
  },
  {
   "cell_type": "markdown",
   "metadata": {},
   "source": [
    "## A FAIRE\n"
   ]
  }
 ],
 "metadata": {
  "kernelspec": {
   "display_name": "Python 3",
   "language": "python",
   "name": "python3"
  },
  "language_info": {
   "codemirror_mode": {
    "name": "ipython",
    "version": 3
   },
   "file_extension": ".py",
   "mimetype": "text/x-python",
   "name": "python",
   "nbconvert_exporter": "python",
   "pygments_lexer": "ipython3",
   "version": "3.12.4"
  }
 },
 "nbformat": 4,
 "nbformat_minor": 2
}
